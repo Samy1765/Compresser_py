{
  "nbformat": 4,
  "nbformat_minor": 0,
  "metadata": {
    "colab": {
      "provenance": [],
      "authorship_tag": "ABX9TyMALPO2teV9+X82Sd6nYYMj",
      "include_colab_link": true
    },
    "kernelspec": {
      "name": "python3",
      "display_name": "Python 3"
    },
    "language_info": {
      "name": "python"
    }
  },
  "cells": [
    {
      "cell_type": "markdown",
      "metadata": {
        "id": "view-in-github",
        "colab_type": "text"
      },
      "source": [
        "<a href=\"https://colab.research.google.com/github/Samy1765/Compresser_py/blob/main/Linera_regression.ipynb\" target=\"_parent\"><img src=\"https://colab.research.google.com/assets/colab-badge.svg\" alt=\"Open In Colab\"/></a>"
      ]
    },
    {
      "cell_type": "code",
      "execution_count": null,
      "metadata": {
        "id": "-nSd07-vD4g3"
      },
      "outputs": [],
      "source": [
        "import numpy as np"
      ]
    },
    {
      "cell_type": "code",
      "source": [
        "class linear_regression():\n",
        "  def init__(self, lr=0.001, n_iters=1000):\n",
        "    self.lr = lr\n",
        "    self.n_iters = n_iters\n",
        "\n",
        "  def fit(self , x, y):\n",
        "    #number of training examples & number of features.\n",
        "    n_samples, n_features = x.shape\n",
        "\n",
        "    # initiating the weight and bias\n",
        "    self.weights =0\n",
        "    self.bias = 0\n",
        "    self.x=x\n",
        "    self.y=y\n",
        "\n",
        "    # implementing Gradient Descent\n",
        "    for i in range(self.n_iters):\n",
        "      self.update_weights()\n",
        "\n",
        "  def update_weights(self):\n",
        "    y_predicted = self.predict(self.x)\n",
        "    dw = -(2*(self.x.T).dot(self.y - y_predicted ) / self.n_samples)\n",
        "    db = -(2 * np.sum(self.y - y_predicted) / self.n_samples)\n",
        "\n",
        "    #updateing the weights and bias\n",
        "    self.weights = self.weights - self.lr*dw\n",
        "    self.bias = self.bias - self.lr*db\n",
        "\n",
        "  def predict(self, x):\n",
        "    # wx + b\n",
        "    return np.dot(x, self.weights) + self.bias"
      ],
      "metadata": {
        "id": "THBTLvdMC4j4"
      },
      "execution_count": null,
      "outputs": []
    }
  ]
}